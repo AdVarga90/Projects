{
 "cells": [
  {
   "cell_type": "markdown",
   "id": "8fa6541b-17f0-4d4b-818c-d51bf429bf08",
   "metadata": {},
   "source": [
    "# Initialization"
   ]
  },
  {
   "cell_type": "code",
   "execution_count": 2,
   "id": "07b1c52e-c5a7-4b55-b16c-0705961fe861",
   "metadata": {},
   "outputs": [],
   "source": [
    "# Data scraping from uderstat, dataframe prep and csv output"
   ]
  },
  {
   "cell_type": "code",
   "execution_count": 3,
   "id": "96d41757-ca23-4b90-b6af-dcb5acb982e3",
   "metadata": {},
   "outputs": [],
   "source": [
    "import requests\n",
    "from bs4 import BeautifulSoup\n",
    "\n",
    "import json\n",
    "import pandas as pd"
   ]
  },
  {
   "cell_type": "code",
   "execution_count": 4,
   "id": "13e37ba6-0775-496c-8280-95b827c51031",
   "metadata": {},
   "outputs": [],
   "source": [
    "player_url = \"https://understat.com/player/204\"\n",
    "dict_of_script_positions = {1:'aggregated',2:'radar',3:'shots',4:'matches'}\n",
    "reqs = requests.get(player_url)\n",
    "soup = BeautifulSoup(reqs.content,'lxml')\n",
    "scripts = soup.find_all('script')"
   ]
  },
  {
   "cell_type": "code",
   "execution_count": 5,
   "id": "a320eec1-3782-44c2-b71c-1efa6166a7cf",
   "metadata": {},
   "outputs": [
    {
     "name": "stdout",
     "output_type": "stream",
     "text": [
      "['df_aggregated']\n",
      "['df_radar']\n",
      "['df_shots']\n",
      "['df_matches']\n"
     ]
    }
   ],
   "source": [
    "for pos in  dict_of_script_positions:\n",
    "    strings = scripts[pos].string\n",
    "    ind_start = strings.index(\"('\")+2 \n",
    "    ind_end = strings.index(\"')\") \n",
    "    json_data = strings[ind_start:ind_end] \n",
    "    json_data = json_data.encode('utf8').decode('unicode_escape')\n",
    "    data = json.loads(json_data)\n",
    "    if pos == 1:\n",
    "        vars()[\"df_\" +dict_of_script_positions[pos] + \"_season\"] = pd.DataFrame(data['season'])        \n",
    "        vars()[\"df_\" +dict_of_script_positions[pos] + \"_shotTypes\"] = pd.DataFrame()\n",
    "        for x in pd.DataFrame(data['shotTypes']).T.index:\n",
    "            vars()[\"df_\" +dict_of_script_positions[pos] + \"_shotTypes\"] = vars()[\"df_\" +dict_of_script_positions[pos] + \"_shotTypes\"].append(pd.DataFrame(data['shotTypes']).T.loc[x].apply(pd.Series).set_index(['season', 'shotTypes']))\n",
    "    elif pos == 2:\n",
    "        vars()[\"df_\" +dict_of_script_positions[pos]] = pd.DataFrame()\n",
    "        for x in pd.DataFrame(data).T.index:\n",
    "            temp_df = pd.DataFrame(data).T.loc[x].apply(pd.Series)\n",
    "            temp_df['position'] = x\n",
    "            vars()[\"df_\" +dict_of_script_positions[pos]] = vars()[\"df_\" +dict_of_script_positions[pos]].append(temp_df)\n",
    "           \n",
    "    else:\n",
    "        vars()[\"df_\" +dict_of_script_positions[pos]] = pd.DataFrame(data)\n",
    "    print([\"df_\" +dict_of_script_positions[pos]])"
   ]
  },
  {
   "cell_type": "code",
   "execution_count": 6,
   "id": "d0bd12a4-f03c-4cbd-bfc3-ab8015d14255",
   "metadata": {},
   "outputs": [
    {
     "name": "stdout",
     "output_type": "stream",
     "text": [
      "Variable                  Type         Data/Info\n",
      "------------------------------------------------\n",
      "df_aggregated_season      DataFrame      position games goals sh<...>198   14.59677966311574  \n",
      "df_aggregated_shotTypes   DataFrame                     goals sh<...>                NaN NaN  \n",
      "df_matches                DataFrame        goals shots          <...>\\n[253 rows x 20 columns]\n",
      "df_radar                  DataFrame                     min     <...>008153  0.002759      Sub\n",
      "df_shots                  DataFrame             id minute       <...>\\n[289 rows x 20 columns]\n",
      "temp_df                   DataFrame                     min     <...>008153  0.002759      Sub\n"
     ]
    }
   ],
   "source": [
    "%whos DataFrame"
   ]
  },
  {
   "cell_type": "code",
   "execution_count": 7,
   "id": "cf81067c-69ad-43ac-9593-dbfb46992284",
   "metadata": {},
   "outputs": [],
   "source": [
    "# output data through excel writer\n",
    "with pd.ExcelWriter(\"GranitXhakaOutputData.xlsx\") as writer:\n",
    "    df_aggregated_season.to_excel(writer, sheet_name=\"Seasons\", index=False)\n",
    "    df_aggregated_shotTypes.to_excel(writer, sheet_name=\"ShotTypes\", index=False)\n",
    "    df_matches.to_excel(writer, sheet_name=\"Matches\", index=False)\n",
    "    df_radar.to_excel(writer, sheet_name=\"Radar\", index=False)\n",
    "    df_shots.to_excel(writer, sheet_name=\"Shots\", index=False)"
   ]
  }
 ],
 "metadata": {
  "instance_type": "ml.t3.medium",
  "kernelspec": {
   "display_name": "Python 3 (Data Science)",
   "language": "python",
   "name": "python3__SAGEMAKER_INTERNAL__arn:aws:sagemaker:eu-central-1:936697816551:image/datascience-1.0"
  },
  "language_info": {
   "codemirror_mode": {
    "name": "ipython",
    "version": 3
   },
   "file_extension": ".py",
   "mimetype": "text/x-python",
   "name": "python",
   "nbconvert_exporter": "python",
   "pygments_lexer": "ipython3",
   "version": "3.7.10"
  }
 },
 "nbformat": 4,
 "nbformat_minor": 5
}
