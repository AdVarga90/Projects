{
 "cells": [
  {
   "cell_type": "markdown",
   "id": "8e2a701b-f229-4fcc-8a2b-94148515ec34",
   "metadata": {},
   "source": [
    "# Import libraries & settings"
   ]
  },
  {
   "cell_type": "code",
   "execution_count": 1,
   "id": "45e027c8",
   "metadata": {},
   "outputs": [],
   "source": [
    "import os\n",
    "\n",
    "import pandas as pd\n",
    "\n",
    "from bs4 import BeautifulSoup\n",
    "\n",
    "import shutil\n",
    "\n",
    "from tqdm import tqdm\n",
    "\n",
    "import numpy as np"
   ]
  },
  {
   "cell_type": "code",
   "execution_count": 2,
   "id": "c4ddc685-2973-44a7-a7b9-dca2d91d0b97",
   "metadata": {},
   "outputs": [],
   "source": [
    "# Settings\n",
    "pd.set_option('display.max_rows', 20)\n",
    "pd.set_option('display.max_columns', 200)"
   ]
  },
  {
   "cell_type": "code",
   "execution_count": 3,
   "id": "42f2d2c3-b1f4-41b3-be42-6cf70e88ac98",
   "metadata": {},
   "outputs": [],
   "source": [
    "# Path to root folder\n",
    "dir_path = 'C:/Users/Adam/Documents/Out of the Park Developments/OOTP Baseball 24/saved_games/'\n",
    "\n",
    "# Destination folder for processed game logs\n",
    "destination_folder_pitchers = 'C:/Users/Adam/Desktop/OOTP/Pitchers_historical_logs'\n",
    "destination_folder_batters = 'C:/Users/Adam/Desktop/OOTP/Batters_historical_logs'\n",
    "\n",
    "# Destination folder for final data sets\n",
    "destination_folder = 'C:/Users/Adam/Desktop/OOTP'"
   ]
  },
  {
   "cell_type": "markdown",
   "id": "f2efbed5-1f51-49a2-a046-a40b6769405e",
   "metadata": {},
   "source": [
    "# Import and process logs"
   ]
  },
  {
   "cell_type": "code",
   "execution_count": 4,
   "id": "7558f067",
   "metadata": {},
   "outputs": [],
   "source": [
    "# Import HTML files\n",
    "html_files = []\n",
    "\n",
    "for root, dirs, files in os.walk(dir_path):\n",
    "    if 'html' in dirs:\n",
    "        temp_dir = os.path.join(root, 'html')\n",
    "        if 'temp' in os.listdir(temp_dir):\n",
    "            html_dir = os.path.join(temp_dir, 'temp')\n",
    "            for file in os.listdir(html_dir):\n",
    "                if file.endswith('.html'):\n",
    "                    html_files.append(os.path.join(html_dir, file))\n"
   ]
  },
  {
   "cell_type": "code",
   "execution_count": 5,
   "id": "28b5d34f-2de0-41c6-b245-cb0889bb8bd0",
   "metadata": {},
   "outputs": [],
   "source": [
    "# Load the parquet \"DBs\" into a Pandas DataFrame\n",
    "# https://towardsdatascience.com/the-best-format-to-save-pandas-data-414dca023e0d\n",
    "# feather was impossible to set up\n",
    "df_pitchers = pd.read_parquet(r'C:\\Users\\Adam\\Desktop\\OOTP\\pitchers_db.parquet')\n",
    "df_batters = pd.read_parquet(r'C:\\Users\\Adam\\Desktop\\OOTP\\batters_db.parquet')"
   ]
  },
  {
   "cell_type": "code",
   "execution_count": 6,
   "id": "6970f546-6cb0-434c-bcbb-caadf75084ab",
   "metadata": {},
   "outputs": [
    {
     "name": "stderr",
     "output_type": "stream",
     "text": [
      "100%|████████████████████████████████████████████████████████████████████████████████████| 6/6 [03:28<00:00, 34.76s/it]\n"
     ]
    }
   ],
   "source": [
    "# ETL for new logs\n",
    "\n",
    "for file in tqdm(html_files):\n",
    "    # Reading the HTML file into a pandas DataFrame\n",
    "    df = pd.read_html(file, flavor = 'bs4', skiprows=[0])[0]\n",
    "    \n",
    "    # delete the first row\n",
    "    df = df.drop(0)\n",
    "    # set the header and drop the row\n",
    "    df = df.rename(columns=df.iloc[0]).drop(df.index[0])\n",
    "    \n",
    "    # Check for duplicate column names\n",
    "    duplicate_cols = df.columns[df.columns.duplicated()]\n",
    "    # print(duplicate_cols) \n",
    "\n",
    "    # Get a boolean mask indicating which column names are duplicates\n",
    "    dupe_mask = df.columns.duplicated()\n",
    "\n",
    "    # Add a suffix to duplicate column names\n",
    "    df.columns = df.columns.where(~dupe_mask, df.columns + '_other')\n",
    "    \n",
    "    # Concatenate the DataFrames for pitchers and batters independently\n",
    "    if df.columns[6] == \"STU\":\n",
    "        df_pitchers = pd.concat([df_pitchers, df])\n",
    "        # Move\n",
    "        #shutil.move(file, destination_folder_pitchers)\n",
    "    else:\n",
    "        # Drop first column for batters\n",
    "        df = df.drop(df.columns[0], axis=1)\n",
    "        # Concat\n",
    "        df_batters = pd.concat([df_batters, df])\n",
    "        # Move\n",
    "        #shutil.move(file, destination_folder_batters)"
   ]
  },
  {
   "cell_type": "code",
   "execution_count": 7,
   "id": "357446b3-5b19-4a45-afab-3cf7f1a651af",
   "metadata": {},
   "outputs": [],
   "source": [
    "# Store unaggregated data between sessions in parquet file\n",
    "df_pitchers.to_parquet(r'C:\\Users\\Adam\\Desktop\\OOTP\\pitchers_db.parquet')\n",
    "df_batters.to_parquet(r'C:\\Users\\Adam\\Desktop\\OOTP\\batters_db.parquet')"
   ]
  },
  {
   "cell_type": "markdown",
   "id": "d18a3b05-ab4d-49a5-ba4b-06105928baf0",
   "metadata": {},
   "source": [
    "# Prepare Dataframes"
   ]
  },
  {
   "cell_type": "markdown",
   "id": "bb767e95",
   "metadata": {},
   "source": [
    "## Data Types"
   ]
  },
  {
   "cell_type": "markdown",
   "id": "45a3b8f9",
   "metadata": {},
   "source": [
    "### Pitchers"
   ]
  },
  {
   "cell_type": "code",
   "execution_count": 8,
   "id": "cc178bff",
   "metadata": {},
   "outputs": [],
   "source": [
    "pitchers_data_types = {\n",
    "    \"POS\": str,\n",
    "    \"Name\": str,\n",
    "    \"ORG\": str,\n",
    "    \"B\": str,\n",
    "    \"T\": str,\n",
    "    \"OVR\": int,\n",
    "    \"STU\": int,\n",
    "    \"MOV\": int,\n",
    "    \"CON\": int,\n",
    "    \"PBABIP\": int,\n",
    "    \"HRR\": int,\n",
    "    \"STU vL\": int,\n",
    "    \"MOV vL\": int,\n",
    "    \"CON vL\": int,\n",
    "    \"PBABIP vL\": int,\n",
    "    \"HRR vL\": int,\n",
    "    \"STU vR\": int,\n",
    "    \"MOV vR\": int,\n",
    "    \"CON vR\": int,\n",
    "    \"PBABIP vR\": int,\n",
    "    \"HRR vR\": int,\n",
    "    \"FB\": int,\n",
    "    \"CH\": int,\n",
    "    \"CB\": int,\n",
    "    \"SL\": int,\n",
    "    \"SI\": int,\n",
    "    \"SP\": int,\n",
    "    \"CT\": int,\n",
    "    \"FO\": int,\n",
    "    \"CC\": int,\n",
    "    \"SC\": int,\n",
    "    \"KC\": int,\n",
    "    \"KN\": int,\n",
    "    \"PIT\": int,\n",
    "    \"G/F\": str,\n",
    "    \"VELO\": str,\n",
    "    \"Slot\": str,\n",
    "    \"PT\": str,\n",
    "    \"STM\": int,\n",
    "    \"HLD\": int,\n",
    "    \"IF RNG\": int,\n",
    "    \"IF ERR\": int,\n",
    "    \"IF ARM\": int,\n",
    "    \"P\": int,\n",
    "    \"G\": int,\n",
    "    \"GS\": int,\n",
    "    \"W\": int,\n",
    "    \"L\": int,\n",
    "    \"WIN%\": float,\n",
    "    \"SVO\": int,\n",
    "    \"SV\": int,\n",
    "    \"SV%\": float,\n",
    "    \"BS\": int,\n",
    "    \"BS%\": float,\n",
    "    \"HLD_other\": int,\n",
    "    \"SD\": int,\n",
    "    \"MD\": int,\n",
    "    \"IP\": float,\n",
    "    \"BF\": int,\n",
    "    \"AB\": int,\n",
    "    \"HA\": int,\n",
    "    \"1B\": int,\n",
    "    \"2B\": int,\n",
    "    \"3B\": int,\n",
    "    \"HR\": int,\n",
    "    \"TB\": int,\n",
    "    \"R\": int,\n",
    "    \"ER\": int,\n",
    "    \"BB\": int,\n",
    "    \"IBB\": int,\n",
    "    \"K\": int,\n",
    "    \"HP\": int,\n",
    "    \"ERA\": float,\n",
    "    \"AVG\": float,\n",
    "    \"OBP\": float,\n",
    "    \"SLG\": float,\n",
    "    \"OPS\": float,\n",
    "    \"BABIP\": float,\n",
    "    \"WHIP\": float,\n",
    "    \"RA/9\": float,\n",
    "    \"HR/9\": float,\n",
    "    \"H/9\": float,\n",
    "    \"BB/9\": float,\n",
    "    \"K/9\": float,\n",
    "    \"K/BB\": float,\n",
    "    \"K%\": float,\n",
    "    \"BB%\": float,\n",
    "    \"K%-BB%\": float,\n",
    "    \"SH\": int,\n",
    "    \"SF\": int,\n",
    "    \"WP\": int,\n",
    "    \"BK\": int,\n",
    "    \"CI\": int,\n",
    "    \"DP\": int,\n",
    "    \"RA\": int,\n",
    "    \"GF\": int,\n",
    "    \"IR\": int,\n",
    "    \"IRS\": int,\n",
    "    \"IRS%\": float,\n",
    "    \"LOB%\": float,\n",
    "    \"pLi\": float,\n",
    "    \"GF%\": float,\n",
    "    \"QS\": int,\n",
    "    \"QS%\": float,\n",
    "    \"CG\": int,\n",
    "    \"CG%\": float,\n",
    "    \"SHO\": int,\n",
    "    \"PPG\": int,\n",
    "    \"RS\": int,\n",
    "    \"RSG\": float,\n",
    "    \"PI\": int,\n",
    "    \"GB\": int,\n",
    "    \"FB_other\": int,\n",
    "    \"GO%\": float,\n",
    "    \"SB\": int,\n",
    "    \"CS\": int,\n",
    "    \"ERA+\": int,\n",
    "    \"FIP\": float,\n",
    "    \"FIP-\": float,\n",
    "    \"WPA\": float,\n",
    "    \"WAR\": float,\n",
    "    \"rWAR\": float,\n",
    "    \"SIERA\": float,\n",
    "    \"TC\": int,\n",
    "    \"A\": int,\n",
    "    \"PO\": int,\n",
    "    \"E\": int,\n",
    "    \"DP_other\": int,\n",
    "    \"TP\": int,\n",
    "    \"PCT\": float,\n",
    "    \"RNG\": float,\n",
    "    \"ZR\": float,\n",
    "    \"EFF\": float\n",
    "}"
   ]
  },
  {
   "cell_type": "code",
   "execution_count": 9,
   "id": "96ec410f",
   "metadata": {},
   "outputs": [],
   "source": [
    "for col, dtype in pitchers_data_types.items():\n",
    "    if df_pitchers[col].dtype != dtype and dtype != 'str':\n",
    "        df_pitchers[col] = df_pitchers[col].replace('-', 0)\n",
    "        #df_pitchers[col] = pd.to_numeric(df_pitchers[col], errors='coerce').astype(dtype)\n",
    "        df_pitchers[col] = df_pitchers[col].astype(dtype, errors = 'ignore')\n",
    "        "
   ]
  },
  {
   "cell_type": "code",
   "execution_count": 10,
   "id": "c0b86233",
   "metadata": {},
   "outputs": [],
   "source": [
    "df_pitchers = df_pitchers.convert_dtypes().reset_index(drop=True)\n",
    "df_pitchers['VELO'] = df_pitchers['VELO'].str.split('-').str[0]"
   ]
  },
  {
   "cell_type": "code",
   "execution_count": 293,
   "id": "a6374103",
   "metadata": {},
   "outputs": [],
   "source": [
    "# decimal format of innings pitched \n",
    "df_pitchers['IP'] = df_pitchers['IP'].apply(lambda x: int(x) + (x % 1 * 10) / 3)"
   ]
  },
  {
   "cell_type": "markdown",
   "id": "c37427ca",
   "metadata": {},
   "source": [
    "### Batters"
   ]
  },
  {
   "cell_type": "code",
   "execution_count": 11,
   "id": "124f7947",
   "metadata": {},
   "outputs": [],
   "source": [
    "batters_data_types = {'POS': str, 'Name': str, 'ORG': str, 'Lev': str, 'HT': str, 'B': str, 'T': str, 'OVR': int, \n",
    "                'BABIP': int, 'CON': int, 'GAP': int, 'POW': int, 'EYE': int, 'K\\'s': int, 'BABIP vL': int, \n",
    "                'CON vL': int, 'GAP vL': int, 'POW vL': int, 'EYE vL': int, 'K vL': int, 'BABIP vR': int, \n",
    "                'CON vR': int, 'GAP vR': int, 'POW vR': int, 'EYE vR': int, 'K vR': int, 'BUN': int, 'BFH': int, \n",
    "                'BBT': str, 'GBT': str, 'FBT': str, 'C ABI': int, 'C ARM': int, 'IF RNG': int, 'IF ERR': int, \n",
    "                'IF ARM': int, 'TDP': int, 'OF RNG': int, 'OF ERR': int, 'OF ARM': int, 'DEF': int, 'P': int, \n",
    "                'C': int, '1B': int, '2B': int, '3B': int, 'SS': int, 'LF': int, 'CF': int, 'RF': int, 'SPE': int, \n",
    "                'STE': int, 'RUN': int, 'G': int, 'GS': int, 'PA': int, 'AB': int, 'H': int, '1B_other': int, \n",
    "                '2B_other': int, '3B_other': int, 'HR': int, 'RBI': int, 'R': int, 'BB': int, 'BB%': float, 'IBB': int, \n",
    "                'HP': int, 'SH': int, 'SF': int, 'CI': int, 'SO': int, 'SO%': float, 'GIDP': int, 'EBH': int, 'TB': int, \n",
    "                'AVG': float, 'OBP': float, 'SLG': float, 'RC': float, 'RC/27': float, 'ISO': float, 'wOBA': float, 'OPS': float,  \n",
    "                'OPS+': int, 'BABIP_other': float, 'WPA': float, 'wRC': int, 'wRC+': int, 'wRAA': float, 'WAR': float, \n",
    "                'PI/PA': float, 'SB': int, 'CS': int, 'SB%': float, 'BatR': float, 'wSB': float, 'UBR': float, 'BsR': float, \n",
    "                'G_other': int, 'GS_other': int, 'TC': int, 'A': int, 'PO': int, 'E': int, 'DP': int, 'TP': int, \n",
    "                'PCT': float, 'RNG': float, 'ZR': float, 'EFF': float, 'SBA': int, 'RTO': int, 'RTO%': float, 'IP': float, \n",
    "                'PB': int, 'CER': int, 'CERA': float, 'BIZ-R%': float, 'BIZ-R': int, 'BIZ-Rm': int, 'BIZ-L%': float, \n",
    "                'BIZ-L': int, 'BIZ-Lm': int, 'BIZ-E%': float, 'BIZ-E': int, 'BIZ-Em': int, 'BIZ-U%': float, \n",
    "                'BIZ-U': int, 'BIZ-Um': int, 'BIZ-Z%': float, 'BIZ-Z': int, 'BIZ-Zm': int, 'BIZ-I': int, 'FRM': float, \n",
    "                'ARM': float, 'BF%': float}\n"
   ]
  },
  {
   "cell_type": "code",
   "execution_count": 429,
   "id": "f0d6d05d",
   "metadata": {},
   "outputs": [],
   "source": [
    "df_batters['GS'].fillna('0', inplace=True)"
   ]
  },
  {
   "cell_type": "code",
   "execution_count": 431,
   "id": "dafb3c38",
   "metadata": {},
   "outputs": [],
   "source": [
    "for col, dtype in batters_data_types.items():\n",
    "    if df_batters[col].dtype != dtype and dtype != 'str':\n",
    "        df_batters[col] = df_batters[col].replace('-', 0)\n",
    "        #df_batters[col] = pd.to_numeric(df_batters[col], errors='coerce').astype(dtype)\n",
    "        if col in ['BIZ-R%', 'BIZ-L%', 'BIZ-E%', 'BIZ-U%', 'BIZ-Z%', 'BF%']:\n",
    "            df_batters[col] = df_batters[col].str.replace('%', '')\n",
    "        df_batters[col] = df_batters[col].astype(dtype, errors = 'ignore')"
   ]
  },
  {
   "cell_type": "code",
   "execution_count": 432,
   "id": "8d89f2f0",
   "metadata": {},
   "outputs": [],
   "source": [
    "df_batters = df_batters.convert_dtypes().reset_index(drop=True)"
   ]
  },
  {
   "cell_type": "markdown",
   "id": "1cbf630a",
   "metadata": {},
   "source": [
    "## Aggregations"
   ]
  },
  {
   "cell_type": "markdown",
   "id": "1b2f3717",
   "metadata": {},
   "source": [
    "### Pitcher aggregations"
   ]
  },
  {
   "cell_type": "code",
   "execution_count": 323,
   "id": "b16e25a6",
   "metadata": {},
   "outputs": [],
   "source": [
    "# # too slow\n",
    "# wm = lambda x: np.average(x, weights=df_pitchers.loc[x.index, 'IP']) if df_pitchers.loc[x.index, 'IP'].sum() > 0 else np.nan\n",
    "# ip9 = lambda x: np.average(x * (9/df_pitchers.loc[x.index, 'IP']), weights=df_pitchers.loc[x.index, 'IP']) if df_pitchers.loc[x.index, 'IP'].sum() > 0 else np.nan\n",
    "# lambda_fncs = {col: ['sum', 'mean', wm, ip9] for col in df_pitchers.columns[53:]}\n",
    "\n",
    "# %%time\n",
    "# pitch_agg = df_pitchers_copy.agg(lambda_fncs)"
   ]
  },
  {
   "cell_type": "code",
   "execution_count": 358,
   "id": "801d088b",
   "metadata": {},
   "outputs": [],
   "source": [
    "wm_col = [\"WIN%\", \"SV%\", \"BS%\", \"AVG\", \"OBP\", \"SLG\", \"OPS\", \"BABIP\", \"WHIP\", \"K/BB\", \"K%\", \"BB%\", \"K%-BB%\", \"IRS%\", \"LOB%\", \"pLi\", \"GF%\", \"QS%\", \"CG%\", \"PPG\", \"RS\", \"RSG\", \"PI\", \"GB\", \"FB_other\", \"GO%\", \"SB\", \"CS\", \"FIP\", \"FIP-\", \"SIERA\", \"PCT\", \"RNG\", \"ZR\", \"EFF\"]\n",
    "\n",
    "ip9_list = []\n",
    "\n",
    "for item in df_pitchers[df_pitchers.iloc[:, 44:].columns]:\n",
    "    if item not in wm_col:\n",
    "            ip9_list.append(item)\n"
   ]
  },
  {
   "cell_type": "code",
   "execution_count": 354,
   "id": "b646c7c0",
   "metadata": {},
   "outputs": [],
   "source": [
    "\n",
    "# Aggregation per player and team\n",
    "df_pitchers_agg_team = df_pitchers.copy()\n",
    "\n",
    "\n",
    "df_pitchers_agg_team[wm_col] = df_pitchers_agg_team[wm_col].mul(df_pitchers_agg_team['IP'], axis=0)\n",
    "\n",
    "# Group by the ratings' columns and sum the values\n",
    "df_pitchers_agg_team = df_pitchers_agg_team.groupby(df_pitchers_agg_team.iloc[:, :44].columns.tolist()).sum()\n",
    "\n",
    "# Reset index\n",
    "df_pitchers_agg_team = df_pitchers_agg_team.reset_index()\n",
    "\n",
    "# Save IP stats\n",
    "df_pitchers_agg_team_IP = df_pitchers_agg_team['IP']\n",
    "\n",
    "# Calculate statistics per 9 innings and update the corresponding columns\n",
    "df_pitchers_agg_team[df_pitchers_agg_team.iloc[:, 44:].columns] = df_pitchers_agg_team[df_pitchers_agg_team.columns[44:]].div(df_pitchers_agg_team['IP'], axis=0)\n",
    "df_pitchers_agg_team[ip9_list] = df_pitchers_agg_team[ip9_list].mul(9, axis=0)\n",
    "\n",
    "\n",
    "# Drop columns that were already per 9 innings\n",
    "df_pitchers_agg_team = df_pitchers_agg_team.drop(columns=['RA/9','HR/9','H/9','BB/9','K/9','ERA+'])\n",
    "\n",
    "# Restore IP stats\n",
    "df_pitchers_agg_team['IP'] = df_pitchers_agg_team_IP"
   ]
  },
  {
   "cell_type": "code",
   "execution_count": 357,
   "id": "5fc8eb37",
   "metadata": {},
   "outputs": [],
   "source": [
    "# Aggregation per player and team\n",
    "df_pitchers_agg = df_pitchers.copy()\n",
    "\n",
    "df_pitchers_agg = df_pitchers_agg.drop(columns='ORG')\n",
    "\n",
    "df_pitchers_agg[wm_col] = df_pitchers_agg[wm_col].mul(df_pitchers_agg['IP'], axis=0)\n",
    "\n",
    "# Group by the ratings' columns and sum the values\n",
    "df_pitchers_agg = df_pitchers_agg.groupby(df_pitchers_agg.iloc[:, :43].columns.tolist()).sum()\n",
    "\n",
    "# Reset index\n",
    "df_pitchers_agg = df_pitchers_agg.reset_index()\n",
    "\n",
    "# Save IP stats\n",
    "df_pitchers_agg_IP = df_pitchers_agg['IP']\n",
    "\n",
    "# Calculate statistics per 9 innings and update the corresponding columns\n",
    "df_pitchers_agg[df_pitchers_agg.iloc[:, 43:].columns] = df_pitchers_agg[df_pitchers_agg.columns[43:]].div(df_pitchers_agg['IP'], axis=0)\n",
    "df_pitchers_agg[ip9_list] = df_pitchers_agg[ip9_list].mul(9, axis=0)\n",
    "\n",
    "\n",
    "# Drop columns that were already per 9 innings\n",
    "df_pitchers_agg = df_pitchers_agg.drop(columns=['RA/9','HR/9','H/9','BB/9','K/9','ERA+'])\n",
    "\n",
    "# Restore IP stats\n",
    "df_pitchers_agg['IP'] = df_pitchers_agg_IP"
   ]
  },
  {
   "cell_type": "markdown",
   "id": "f3cde21b",
   "metadata": {},
   "source": [
    "### Batter aggregations"
   ]
  },
  {
   "cell_type": "code",
   "execution_count": 369,
   "id": "08c10e3b",
   "metadata": {},
   "outputs": [],
   "source": [
    "pa600_list = ['G', 'GS','PA','AB', 'H', '1B_other', '2B_other', '3B_other', 'HR', 'RBI', 'R', 'BB', 'IBB', 'HP', 'SH', 'SF', 'CI', 'SO', 'GIDP', 'EBH', 'TB', 'WPA', 'wRC', 'wRAA', 'WAR', 'SB', 'CS', 'BatR', 'wSB', 'UBR', 'BsR', 'G_other', 'GS_other', 'TC', 'A', 'PO', 'E', 'DP', 'TP', 'SBA', 'RTO']\n",
    "wm_def_col = ['IP', 'PB', 'CER', 'BIZ-R', 'BIZ-Rm', 'BIZ-L', 'BIZ-Lm', 'BIZ-E', 'BIZ-Em', 'BIZ-U', 'BIZ-Um', 'BIZ-Z', 'BIZ-Zm', 'BIZ-I', 'FRM', 'ARM']\n",
    "\n",
    "wm_col = []\n",
    "\n",
    "for item in df_batters[df_batters.iloc[:, 53:].columns]:\n",
    "    if item not in pa600_list:\n",
    "        if item not in wm_def_col:\n",
    "            wm_col.append(item)\n"
   ]
  },
  {
   "cell_type": "code",
   "execution_count": 436,
   "id": "7682c0bd",
   "metadata": {},
   "outputs": [],
   "source": [
    "# Aggregation per player and team\n",
    "df_batters_agg_team = df_batters.copy()\n",
    "\n",
    "df_batters_agg_team[wm_col] = df_batters_agg_team[wm_col].mul(df_batters_agg_team['PA'], axis=0)\n",
    "df_batters_agg_team[pa600_list] = df_batters_agg_team[pa600_list].mul(df_batters_agg_team['PA'], axis=0)\n",
    "df_batters_agg_team[wm_def_col] = df_batters_agg_team[wm_def_col].mul(df_batters_agg_team['IP'], axis=0)\n",
    "\n",
    "# Group by the ratings' columns and sum the values\n",
    "df_batters_agg_team = df_batters_agg_team.groupby(df_batters_agg_team.iloc[:, :53].columns.tolist()).sum()\n",
    "\n",
    "# Reset index\n",
    "df_batters_agg_team = df_batters_agg_team.reset_index()\n",
    "\n",
    "# Save PA + IP stats\n",
    "df_batters_agg_team_PA = df_batters_agg_team['PA']\n",
    "df_batters_agg_team_IP = df_batters_agg_team['IP']\n",
    "\n",
    "# Calculate statistics per 600 PAs and update the corresponding columns\n",
    "df_batters_agg_team[wm_col] = df_batters_agg_team[wm_col].div(df_batters_agg_team['PA'], axis=0)\n",
    "df_batters_agg_team[pa600_list] = df_batters_agg_team[pa600_list].div(df_batters_agg_team['PA'], axis=0).mul(600, axis=0)\n",
    "df_batters_agg_team[wm_def_col] = df_batters_agg_team[wm_def_col].div(df_batters_agg_team['IP'], axis=0).mul(1000, axis=0)\n",
    "\n",
    "\n",
    "# Restore PA + IP stats\n",
    "df_batters_agg_team['PA'] = df_batters_agg_team_PA\n",
    "df_batters_agg_team['IP'] = df_batters_agg_team_IP"
   ]
  },
  {
   "cell_type": "code",
   "execution_count": 440,
   "id": "cceae2dc",
   "metadata": {},
   "outputs": [],
   "source": [
    "# Aggregation per player\n",
    "df_batters_agg = df_batters.copy()\n",
    "\n",
    "df_batters_agg = df_batters_agg.drop(columns='ORG')\n",
    "\n",
    "df_batters_agg[wm_col] = df_batters_agg[wm_col].mul(df_batters_agg['PA'], axis=0)\n",
    "df_batters_agg[pa600_list] = df_batters_agg[pa600_list].mul(df_batters_agg['PA'], axis=0)\n",
    "df_batters_agg[wm_def_col] = df_batters_agg[wm_def_col].mul(df_batters_agg['IP'], axis=0)\n",
    "\n",
    "# Group by the ratings' columns and sum the values\n",
    "df_batters_agg = df_batters_agg.groupby(df_batters_agg.iloc[:, :52].columns.tolist()).sum()\n",
    "\n",
    "# Reset index\n",
    "df_batters_agg = df_batters_agg.reset_index()\n",
    "\n",
    "# Save PA + IP stats\n",
    "df_batters_agg_PA = df_batters_agg['PA']\n",
    "df_batters_agg_IP = df_batters_agg['IP']\n",
    "\n",
    "# Calculate statistics per 600 PAs and update the corresponding columns\n",
    "df_batters_agg[wm_col] = df_batters_agg[wm_col].div(df_batters_agg['PA'], axis=0)\n",
    "df_batters_agg[pa600_list] = df_batters_agg[pa600_list].div(df_batters_agg['PA'], axis=0).mul(600, axis=0)\n",
    "df_batters_agg[wm_def_col] = df_batters_agg[wm_def_col].div(df_batters_agg['IP'], axis=0).mul(1000, axis=0)\n",
    "\n",
    "\n",
    "# Restore PA + IP stats\n",
    "df_batters_agg['PA'] = df_batters_agg_PA\n",
    "df_batters_agg['IP'] = df_batters_agg_IP"
   ]
  },
  {
   "cell_type": "markdown",
   "id": "4ae52b52",
   "metadata": {},
   "source": [
    "### Team aggregations"
   ]
  },
  {
   "cell_type": "code",
   "execution_count": 445,
   "id": "2660ea85",
   "metadata": {},
   "outputs": [
    {
     "data": {
      "text/html": [
       "<div>\n",
       "<style scoped>\n",
       "    .dataframe tbody tr th:only-of-type {\n",
       "        vertical-align: middle;\n",
       "    }\n",
       "\n",
       "    .dataframe tbody tr th {\n",
       "        vertical-align: top;\n",
       "    }\n",
       "\n",
       "    .dataframe thead th {\n",
       "        text-align: right;\n",
       "    }\n",
       "</style>\n",
       "<table border=\"1\" class=\"dataframe\">\n",
       "  <thead>\n",
       "    <tr style=\"text-align: right;\">\n",
       "      <th></th>\n",
       "      <th>W</th>\n",
       "      <th>L</th>\n",
       "    </tr>\n",
       "    <tr>\n",
       "      <th>ORG</th>\n",
       "      <th></th>\n",
       "      <th></th>\n",
       "    </tr>\n",
       "  </thead>\n",
       "  <tbody>\n",
       "    <tr>\n",
       "      <th>Albuquerque Albatross</th>\n",
       "      <td>4</td>\n",
       "      <td>4</td>\n",
       "    </tr>\n",
       "    <tr>\n",
       "      <th>Camden New Jerseys</th>\n",
       "      <td>4</td>\n",
       "      <td>4</td>\n",
       "    </tr>\n",
       "    <tr>\n",
       "      <th>Centralia Mine Fires</th>\n",
       "      <td>6</td>\n",
       "      <td>4</td>\n",
       "    </tr>\n",
       "    <tr>\n",
       "      <th>Chicago Yeezy's</th>\n",
       "      <td>2</td>\n",
       "      <td>4</td>\n",
       "    </tr>\n",
       "    <tr>\n",
       "      <th>Coffeetown Kitties</th>\n",
       "      <td>0</td>\n",
       "      <td>4</td>\n",
       "    </tr>\n",
       "    <tr>\n",
       "      <th>...</th>\n",
       "      <td>...</td>\n",
       "      <td>...</td>\n",
       "    </tr>\n",
       "    <tr>\n",
       "      <th>Trollskull Alley Irregulars</th>\n",
       "      <td>0</td>\n",
       "      <td>4</td>\n",
       "    </tr>\n",
       "    <tr>\n",
       "      <th>Turkmenistan Twinks</th>\n",
       "      <td>0</td>\n",
       "      <td>4</td>\n",
       "    </tr>\n",
       "    <tr>\n",
       "      <th>Tuscaloosa Tacos</th>\n",
       "      <td>0</td>\n",
       "      <td>4</td>\n",
       "    </tr>\n",
       "    <tr>\n",
       "      <th>Vintage Dickstands</th>\n",
       "      <td>14</td>\n",
       "      <td>2</td>\n",
       "    </tr>\n",
       "    <tr>\n",
       "      <th>Yakima Apple Sox</th>\n",
       "      <td>4</td>\n",
       "      <td>4</td>\n",
       "    </tr>\n",
       "  </tbody>\n",
       "</table>\n",
       "<p>44 rows × 2 columns</p>\n",
       "</div>"
      ],
      "text/plain": [
       "                              W  L\n",
       "ORG                               \n",
       "Albuquerque Albatross         4  4\n",
       "Camden New Jerseys            4  4\n",
       "Centralia Mine Fires          6  4\n",
       "Chicago Yeezy's               2  4\n",
       "Coffeetown Kitties            0  4\n",
       "...                          .. ..\n",
       "Trollskull Alley Irregulars   0  4\n",
       "Turkmenistan Twinks           0  4\n",
       "Tuscaloosa Tacos              0  4\n",
       "Vintage Dickstands           14  2\n",
       "Yakima Apple Sox              4  4\n",
       "\n",
       "[44 rows x 2 columns]"
      ]
     },
     "execution_count": 445,
     "metadata": {},
     "output_type": "execute_result"
    }
   ],
   "source": [
    "df_team_agg = df_team_agg.groupby('ORG')[['W','L']].sum().copy()\n",
    "df_team_agg"
   ]
  },
  {
   "cell_type": "markdown",
   "id": "8e30d33d-8d29-4add-8ba3-a967cb3f2639",
   "metadata": {},
   "source": [
    "# Analysis"
   ]
  },
  {
   "cell_type": "code",
   "execution_count": null,
   "id": "235df13c",
   "metadata": {},
   "outputs": [],
   "source": []
  },
  {
   "cell_type": "code",
   "execution_count": null,
   "id": "36b8af94",
   "metadata": {},
   "outputs": [],
   "source": []
  }
 ],
 "metadata": {
  "kernelspec": {
   "display_name": "Python 3 (ipykernel)",
   "language": "python",
   "name": "python3"
  },
  "language_info": {
   "codemirror_mode": {
    "name": "ipython",
    "version": 3
   },
   "file_extension": ".py",
   "mimetype": "text/x-python",
   "name": "python",
   "nbconvert_exporter": "python",
   "pygments_lexer": "ipython3",
   "version": "3.10.9"
  }
 },
 "nbformat": 4,
 "nbformat_minor": 5
}
